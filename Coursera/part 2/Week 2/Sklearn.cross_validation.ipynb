{
 "cells": [
  {
   "cell_type": "code",
   "execution_count": 1,
   "metadata": {},
   "outputs": [
    {
     "name": "stderr",
     "output_type": "stream",
     "text": [
      "<frozen importlib._bootstrap>:219: RuntimeWarning: numpy.ufunc size changed, may indicate binary incompatibility. Expected 192 from C header, got 216 from PyObject\n"
     ]
    }
   ],
   "source": [
    "from sklearn import model_selection, datasets\n",
    "\n",
    "import numpy as np"
   ]
  },
  {
   "cell_type": "markdown",
   "metadata": {},
   "source": [
    "### Разбиение на обучение и тест с помощью test_train_split"
   ]
  },
  {
   "cell_type": "code",
   "execution_count": 2,
   "metadata": {},
   "outputs": [],
   "source": [
    "iris = datasets.load_iris()"
   ]
  },
  {
   "cell_type": "code",
   "execution_count": 6,
   "metadata": {},
   "outputs": [],
   "source": [
    "train_data, test_data, train_labels, test_labels = model_selection.train_test_split(iris.data, iris.target, test_size=0.3)"
   ]
  },
  {
   "cell_type": "code",
   "execution_count": 7,
   "metadata": {},
   "outputs": [
    {
     "data": {
      "text/plain": [
       "0.3"
      ]
     },
     "execution_count": 7,
     "metadata": {},
     "output_type": "execute_result"
    }
   ],
   "source": [
    "#убедимся в корректности разбиение\n",
    "float(len(test_data))/len(iris.data)"
   ]
  },
  {
   "cell_type": "code",
   "execution_count": 9,
   "metadata": {},
   "outputs": [
    {
     "name": "stdout",
     "output_type": "stream",
     "text": [
      "Размер обучающей выборки: 105 объектов\n",
      "Размер тестовой выборки: 45 объектов\n"
     ]
    }
   ],
   "source": [
    "print('Размер обучающей выборки: {} объектов\\nРазмер тестовой выборки: {} объектов'.format(len(train_data), len(test_data)))"
   ]
  },
  {
   "cell_type": "code",
   "execution_count": 11,
   "metadata": {},
   "outputs": [
    {
     "name": "stdout",
     "output_type": "stream",
     "text": [
      "Обучающая выборка: \n",
      " [[5.  3.4 1.5 0.2]\n",
      " [4.8 3.1 1.6 0.2]\n",
      " [7.3 2.9 6.3 1.8]\n",
      " [4.6 3.2 1.4 0.2]\n",
      " [5.4 3.4 1.7 0.2]]\n",
      "\n",
      "\n",
      "Тестовая выборка: \n",
      " [[4.9 3.  1.4 0.2]\n",
      " [5.6 2.7 4.2 1.3]\n",
      " [5.4 3.  4.5 1.5]\n",
      " [5.  3.5 1.3 0.3]\n",
      " [6.6 2.9 4.6 1.3]]\n"
     ]
    }
   ],
   "source": [
    "print('Обучающая выборка: \\n', train_data[:5])\n",
    "print('\\n')\n",
    "print('Тестовая выборка: \\n', test_data[:5])"
   ]
  },
  {
   "cell_type": "code",
   "execution_count": 12,
   "metadata": {},
   "outputs": [
    {
     "name": "stdout",
     "output_type": "stream",
     "text": [
      "Метки классов на обучающей выборке: \n",
      " [0 0 2 0 0 0 2 1 2 0 0 1 1 0 0 2 1 2 2 1 2 1 1 2 1 2 2 1 0 1 0 0 0 2 1 2 0\n",
      " 2 1 0 2 0 0 0 0 1 2 1 1 2 0 2 1 2 1 0 1 0 0 1 2 2 1 1 0 1 2 0 0 2 0 0 2 2\n",
      " 2 2 1 1 1 2 2 2 2 2 1 1 0 1 0 1 0 1 0 0 0 2 1 1 1 2 1 0 2 2 1]\n",
      "\n",
      "\n",
      "Метки классов на тестовой выборке: \n",
      " [0 1 1 0 1 2 2 2 2 0 1 0 1 2 2 2 2 0 1 0 2 1 0 0 0 0 2 2 1 1 0 1 0 1 0 2 0\n",
      " 1 2 0 1 2 2 1 1]\n"
     ]
    }
   ],
   "source": [
    "print('Метки классов на обучающей выборке: \\n', train_labels)\n",
    "print('\\n')\n",
    "print('Метки классов на тестовой выборке: \\n', test_labels)"
   ]
  },
  {
   "cell_type": "markdown",
   "metadata": {},
   "source": [
    "### Стратегии проведения кросс-валидации"
   ]
  },
  {
   "cell_type": "markdown",
   "metadata": {},
   "source": [
    "#### KFold"
   ]
  },
  {
   "cell_type": "code",
   "execution_count": 80,
   "metadata": {},
   "outputs": [
    {
     "data": {
      "text/plain": [
       "[1, 2, 3, 4, 5, 6, 7, 8, 9, 10]"
      ]
     },
     "execution_count": 80,
     "metadata": {},
     "output_type": "execute_result"
    }
   ],
   "source": [
    "X = list(range(1,11))\n",
    "X"
   ]
  },
  {
   "cell_type": "code",
   "execution_count": 82,
   "metadata": {},
   "outputs": [],
   "source": [
    "kfold = model_selection.KFold(n_splits=2)"
   ]
  },
  {
   "cell_type": "code",
   "execution_count": 83,
   "metadata": {},
   "outputs": [
    {
     "data": {
      "text/plain": [
       "2"
      ]
     },
     "execution_count": 83,
     "metadata": {},
     "output_type": "execute_result"
    }
   ],
   "source": [
    "#какое количество фолдов\n",
    "kfold.get_n_splits()"
   ]
  },
  {
   "cell_type": "code",
   "execution_count": 84,
   "metadata": {},
   "outputs": [
    {
     "name": "stdout",
     "output_type": "stream",
     "text": [
      "TRAIN: [5 6 7 8 9] TEST [0 1 2 3 4]\n",
      "TRAIN: [0 1 2 3 4] TEST [5 6 7 8 9]\n"
     ]
    }
   ],
   "source": [
    "#разбивка по индексу\n",
    "for train_index, test_index in kfold.split(X):\n",
    "    print('TRAIN:', train_index, 'TEST', test_index)"
   ]
  },
  {
   "cell_type": "code",
   "execution_count": 88,
   "metadata": {},
   "outputs": [
    {
     "name": "stdout",
     "output_type": "stream",
     "text": [
      "TRAIN: [1 3 5 7 8] TEST [0 2 4 6 9]\n",
      "TRAIN: [0 2 4 6 9] TEST [1 3 5 7 8]\n"
     ]
    }
   ],
   "source": [
    "#перемешаем значения индексов\n",
    "kfold = model_selection.KFold(n_splits=2, shuffle=True, random_state=1)\n",
    "for train_index, test_index in kfold.split(X):\n",
    "    print('TRAIN:', train_index, 'TEST', test_index)"
   ]
  },
  {
   "cell_type": "markdown",
   "metadata": {},
   "source": [
    "#### StratifiedKFold"
   ]
  },
  {
   "cell_type": "code",
   "execution_count": null,
   "metadata": {},
   "outputs": [],
   "source": [
    "# позволяет делать кросс-валидацию, \n",
    "# сохраняя определенное соотношение баланса классов\n",
    "#сохраняем соотношение классов в обучающих и тестовых подвыборках\n",
    "#разбиение происходит с учетом меток классов"
   ]
  },
  {
   "cell_type": "code",
   "execution_count": 134,
   "metadata": {},
   "outputs": [
    {
     "name": "stdout",
     "output_type": "stream",
     "text": [
      "[0 1 2 3 4 5 6 7 8 9]\n",
      "[0 0 0 0 0 1 1 1 1 1]\n"
     ]
    }
   ],
   "source": [
    "X = np.array(list(range(0,10)))\n",
    "target = np.array([0]*5 + [1]*5)\n",
    "print(X)\n",
    "print(target)"
   ]
  },
  {
   "cell_type": "code",
   "execution_count": 130,
   "metadata": {},
   "outputs": [],
   "source": [
    "Stratifiedkfold = model_selection.StratifiedKFold(n_splits=2, shuffle=True, random_state=0)"
   ]
  },
  {
   "cell_type": "code",
   "execution_count": 131,
   "metadata": {},
   "outputs": [
    {
     "data": {
      "text/plain": [
       "2"
      ]
     },
     "execution_count": 131,
     "metadata": {},
     "output_type": "execute_result"
    }
   ],
   "source": [
    "#какое количество фолдов\n",
    "Stratifiedkfold.get_n_splits()"
   ]
  },
  {
   "cell_type": "code",
   "execution_count": 136,
   "metadata": {},
   "outputs": [
    {
     "name": "stdout",
     "output_type": "stream",
     "text": [
      "[0 0 0 0 0 1 1 1 1 1]\n",
      "TRAIN: [3 4 6 8 9] TEST [0 1 2 5 7]\n",
      "TRAIN: [0 1 2 5 7] TEST [3 4 6 8 9]\n"
     ]
    }
   ],
   "source": [
    "print(target)\n",
    "for train_index, test_index in Stratifiedkfold.split(X,target):\n",
    "    print('TRAIN:', train_index, 'TEST', test_index)\n",
    "\n",
    "#то есть идея в том, что в каждой подвыборке баланс \n",
    "#классов такой же, как и в исходной"
   ]
  },
  {
   "cell_type": "code",
   "execution_count": 145,
   "metadata": {},
   "outputs": [
    {
     "name": "stdout",
     "output_type": "stream",
     "text": [
      "[0 1 0 1 0 1 0 1 0 1]\n",
      "TRAIN: [3 6 7 8 9] TEST [0 1 2 4 5]\n",
      "TRAIN: [0 1 2 4 5] TEST [3 6 7 8 9]\n"
     ]
    }
   ],
   "source": [
    "target = np.array([0,1]*5)\n",
    "Stratifiedkfold = model_selection.StratifiedKFold(n_splits=2, shuffle=True, random_state=0)\n",
    "print(target)\n",
    "\n",
    "for train_index, test_index in Stratifiedkfold.split(X,target):\n",
    "    print('TRAIN:', train_index, 'TEST', test_index)"
   ]
  },
  {
   "cell_type": "markdown",
   "metadata": {},
   "source": [
    "#### ShuffleSplit"
   ]
  },
  {
   "cell_type": "code",
   "execution_count": 166,
   "metadata": {},
   "outputs": [],
   "source": [
    "#разбивает выборку на 10 экземпляров.(случайные перестановки)\n",
    "#второе значение - количество элементов в тестовой выборке\n",
    "shuffleSplit = model_selection.ShuffleSplit(10, test_size=0.4)"
   ]
  },
  {
   "cell_type": "code",
   "execution_count": 167,
   "metadata": {},
   "outputs": [
    {
     "name": "stdout",
     "output_type": "stream",
     "text": [
      "TRAIN: [0 7 1 4 8 9] TEST [3 6 2 5]\n",
      "TRAIN: [5 2 3 9 0 1] TEST [6 7 4 8]\n",
      "TRAIN: [9 6 4 5 2 1] TEST [3 0 7 8]\n",
      "TRAIN: [2 0 4 5 6 3] TEST [1 9 8 7]\n",
      "TRAIN: [3 7 9 1 5 8] TEST [2 0 6 4]\n",
      "TRAIN: [1 8 0 2 3 4] TEST [5 9 7 6]\n",
      "TRAIN: [7 3 6 1 8 2] TEST [0 9 5 4]\n",
      "TRAIN: [9 8 5 1 3 4] TEST [0 6 7 2]\n",
      "TRAIN: [1 3 2 0 7 5] TEST [6 4 9 8]\n",
      "TRAIN: [5 9 0 3 7 1] TEST [4 6 8 2]\n"
     ]
    }
   ],
   "source": [
    "for train_index, test_index in shuffleSplit.split(X):\n",
    "    print('TRAIN:', train_index, 'TEST', test_index)"
   ]
  },
  {
   "cell_type": "markdown",
   "metadata": {},
   "source": [
    "#### StratifiedShuffleSplit"
   ]
  },
  {
   "cell_type": "code",
   "execution_count": 161,
   "metadata": {},
   "outputs": [
    {
     "name": "stdout",
     "output_type": "stream",
     "text": [
      "[0 0 0 0 0 1 1 1 1 1]\n"
     ]
    }
   ],
   "source": [
    "target = np.array([0]*5 + [1]*5)\n",
    "print(target)"
   ]
  },
  {
   "cell_type": "code",
   "execution_count": 178,
   "metadata": {},
   "outputs": [],
   "source": [
    "stratifiedShuffleSplit = model_selection.StratifiedShuffleSplit(4, test_size=0.2)"
   ]
  },
  {
   "cell_type": "code",
   "execution_count": 179,
   "metadata": {},
   "outputs": [
    {
     "name": "stdout",
     "output_type": "stream",
     "text": [
      "TRAIN: [8 6 7 0 3 9 4 2] TEST [1 5]\n",
      "TRAIN: [1 2 0 6 4 9 5 8] TEST [7 3]\n",
      "TRAIN: [1 5 2 9 6 7 0 3] TEST [8 4]\n",
      "TRAIN: [4 2 9 6 3 1 7 5] TEST [8 0]\n"
     ]
    }
   ],
   "source": [
    "for train_index, test_index in stratifiedShuffleSplit.split(X, target):\n",
    "    print('TRAIN:', train_index, 'TEST', test_index)"
   ]
  },
  {
   "cell_type": "markdown",
   "metadata": {},
   "source": [
    "#### Leave-One-Out"
   ]
  },
  {
   "cell_type": "code",
   "execution_count": 174,
   "metadata": {},
   "outputs": [],
   "source": [
    "leaveOneOut = model_selection.LeaveOneOut()"
   ]
  },
  {
   "cell_type": "code",
   "execution_count": 183,
   "metadata": {},
   "outputs": [
    {
     "name": "stdout",
     "output_type": "stream",
     "text": [
      "TRAIN: [1 2 3 4 5 6 7 8 9] TEST [0]\n",
      "TRAIN: [0 2 3 4 5 6 7 8 9] TEST [1]\n",
      "TRAIN: [0 1 3 4 5 6 7 8 9] TEST [2]\n",
      "TRAIN: [0 1 2 4 5 6 7 8 9] TEST [3]\n",
      "TRAIN: [0 1 2 3 5 6 7 8 9] TEST [4]\n",
      "TRAIN: [0 1 2 3 4 6 7 8 9] TEST [5]\n",
      "TRAIN: [0 1 2 3 4 5 7 8 9] TEST [6]\n",
      "TRAIN: [0 1 2 3 4 5 6 8 9] TEST [7]\n",
      "TRAIN: [0 1 2 3 4 5 6 7 9] TEST [8]\n",
      "TRAIN: [0 1 2 3 4 5 6 7 8] TEST [9]\n"
     ]
    }
   ],
   "source": [
    "for train_index, test_index in leaveOneOut.split(X):\n",
    "    print('TRAIN:', train_index, 'TEST', test_index)"
   ]
  }
 ],
 "metadata": {
  "kernelspec": {
   "display_name": "Python 3",
   "language": "python",
   "name": "python3"
  },
  "language_info": {
   "codemirror_mode": {
    "name": "ipython",
    "version": 3
   },
   "file_extension": ".py",
   "mimetype": "text/x-python",
   "name": "python",
   "nbconvert_exporter": "python",
   "pygments_lexer": "ipython3",
   "version": "3.8.5"
  }
 },
 "nbformat": 4,
 "nbformat_minor": 4
}
