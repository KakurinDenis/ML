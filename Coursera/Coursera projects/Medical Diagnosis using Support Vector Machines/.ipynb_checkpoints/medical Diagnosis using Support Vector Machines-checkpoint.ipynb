{
 "cells": [
  {
   "cell_type": "markdown",
   "id": "0b9cecbd",
   "metadata": {},
   "source": [
    "In this course, we are going to focus on five learning objectives:\n",
    "\n",
    "- By the end of task 1, you will be able to load a dataset from file, and extract its features and labels.\n",
    "- By the end of task 2, you will be able to split a dataset into training and testing subsets, and normalize the values.\n",
    "- By the end of task 3, you will be able to create a support vector machine and train it.\n",
    "- By the end of task 4, you will be able to make a medical diagnosis for a new patient using an SVM.\n",
    "- By the end of task 5, you will be able to evaluate the accuracy of the SVM classifier."
   ]
  },
  {
   "cell_type": "code",
   "execution_count": null,
   "id": "defcbf0c",
   "metadata": {},
   "outputs": [],
   "source": []
  },
  {
   "cell_type": "code",
   "execution_count": null,
   "id": "96469531",
   "metadata": {},
   "outputs": [],
   "source": []
  }
 ],
 "metadata": {
  "kernelspec": {
   "display_name": "Python 3",
   "language": "python",
   "name": "python3"
  },
  "language_info": {
   "codemirror_mode": {
    "name": "ipython",
    "version": 3
   },
   "file_extension": ".py",
   "mimetype": "text/x-python",
   "name": "python",
   "nbconvert_exporter": "python",
   "pygments_lexer": "ipython3",
   "version": "3.8.8"
  }
 },
 "nbformat": 4,
 "nbformat_minor": 5
}
