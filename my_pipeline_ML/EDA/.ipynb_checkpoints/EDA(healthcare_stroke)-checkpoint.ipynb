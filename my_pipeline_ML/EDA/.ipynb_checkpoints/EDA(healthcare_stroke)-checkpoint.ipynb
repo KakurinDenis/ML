{
 "cells": [
  {
   "cell_type": "code",
   "execution_count": 84,
   "id": "25d1dfd5",
   "metadata": {},
   "outputs": [],
   "source": [
    "import seaborn as sns\n",
    "import pandas as pd\n",
    "import numpy as np\n",
    "from matplotlib import pyplot as plt\n",
    "import rand\n",
    "sns.set()"
   ]
  },
  {
   "cell_type": "code",
   "execution_count": 2,
   "id": "a5b5ae10",
   "metadata": {},
   "outputs": [],
   "source": [
    "data = pd.read_csv('../data/healthcare-dataset-stroke-data.csv')\n",
    "data.set_index('id', inplace=True)"
   ]
  },
  {
   "cell_type": "code",
   "execution_count": 3,
   "id": "19a6fb23",
   "metadata": {},
   "outputs": [
    {
     "data": {
      "text/html": [
       "<div>\n",
       "<style scoped>\n",
       "    .dataframe tbody tr th:only-of-type {\n",
       "        vertical-align: middle;\n",
       "    }\n",
       "\n",
       "    .dataframe tbody tr th {\n",
       "        vertical-align: top;\n",
       "    }\n",
       "\n",
       "    .dataframe thead th {\n",
       "        text-align: right;\n",
       "    }\n",
       "</style>\n",
       "<table border=\"1\" class=\"dataframe\">\n",
       "  <thead>\n",
       "    <tr style=\"text-align: right;\">\n",
       "      <th></th>\n",
       "      <th>gender</th>\n",
       "      <th>age</th>\n",
       "      <th>hypertension</th>\n",
       "      <th>heart_disease</th>\n",
       "      <th>ever_married</th>\n",
       "      <th>work_type</th>\n",
       "      <th>Residence_type</th>\n",
       "      <th>avg_glucose_level</th>\n",
       "      <th>bmi</th>\n",
       "      <th>smoking_status</th>\n",
       "      <th>stroke</th>\n",
       "    </tr>\n",
       "    <tr>\n",
       "      <th>id</th>\n",
       "      <th></th>\n",
       "      <th></th>\n",
       "      <th></th>\n",
       "      <th></th>\n",
       "      <th></th>\n",
       "      <th></th>\n",
       "      <th></th>\n",
       "      <th></th>\n",
       "      <th></th>\n",
       "      <th></th>\n",
       "      <th></th>\n",
       "    </tr>\n",
       "  </thead>\n",
       "  <tbody>\n",
       "    <tr>\n",
       "      <th>9046</th>\n",
       "      <td>Male</td>\n",
       "      <td>67.0</td>\n",
       "      <td>0</td>\n",
       "      <td>1</td>\n",
       "      <td>Yes</td>\n",
       "      <td>Private</td>\n",
       "      <td>Urban</td>\n",
       "      <td>228.69</td>\n",
       "      <td>36.6</td>\n",
       "      <td>formerly smoked</td>\n",
       "      <td>1</td>\n",
       "    </tr>\n",
       "    <tr>\n",
       "      <th>51676</th>\n",
       "      <td>Female</td>\n",
       "      <td>61.0</td>\n",
       "      <td>0</td>\n",
       "      <td>0</td>\n",
       "      <td>Yes</td>\n",
       "      <td>Self-employed</td>\n",
       "      <td>Rural</td>\n",
       "      <td>202.21</td>\n",
       "      <td>NaN</td>\n",
       "      <td>never smoked</td>\n",
       "      <td>1</td>\n",
       "    </tr>\n",
       "    <tr>\n",
       "      <th>31112</th>\n",
       "      <td>Male</td>\n",
       "      <td>80.0</td>\n",
       "      <td>0</td>\n",
       "      <td>1</td>\n",
       "      <td>Yes</td>\n",
       "      <td>Private</td>\n",
       "      <td>Rural</td>\n",
       "      <td>105.92</td>\n",
       "      <td>32.5</td>\n",
       "      <td>never smoked</td>\n",
       "      <td>1</td>\n",
       "    </tr>\n",
       "    <tr>\n",
       "      <th>60182</th>\n",
       "      <td>Female</td>\n",
       "      <td>49.0</td>\n",
       "      <td>0</td>\n",
       "      <td>0</td>\n",
       "      <td>Yes</td>\n",
       "      <td>Private</td>\n",
       "      <td>Urban</td>\n",
       "      <td>171.23</td>\n",
       "      <td>34.4</td>\n",
       "      <td>smokes</td>\n",
       "      <td>1</td>\n",
       "    </tr>\n",
       "    <tr>\n",
       "      <th>1665</th>\n",
       "      <td>Female</td>\n",
       "      <td>79.0</td>\n",
       "      <td>1</td>\n",
       "      <td>0</td>\n",
       "      <td>Yes</td>\n",
       "      <td>Self-employed</td>\n",
       "      <td>Rural</td>\n",
       "      <td>174.12</td>\n",
       "      <td>24.0</td>\n",
       "      <td>never smoked</td>\n",
       "      <td>1</td>\n",
       "    </tr>\n",
       "  </tbody>\n",
       "</table>\n",
       "</div>"
      ],
      "text/plain": [
       "       gender   age  hypertension  heart_disease ever_married      work_type  \\\n",
       "id                                                                             \n",
       "9046     Male  67.0             0              1          Yes        Private   \n",
       "51676  Female  61.0             0              0          Yes  Self-employed   \n",
       "31112    Male  80.0             0              1          Yes        Private   \n",
       "60182  Female  49.0             0              0          Yes        Private   \n",
       "1665   Female  79.0             1              0          Yes  Self-employed   \n",
       "\n",
       "      Residence_type  avg_glucose_level   bmi   smoking_status  stroke  \n",
       "id                                                                      \n",
       "9046           Urban             228.69  36.6  formerly smoked       1  \n",
       "51676          Rural             202.21   NaN     never smoked       1  \n",
       "31112          Rural             105.92  32.5     never smoked       1  \n",
       "60182          Urban             171.23  34.4           smokes       1  \n",
       "1665           Rural             174.12  24.0     never smoked       1  "
      ]
     },
     "execution_count": 3,
     "metadata": {},
     "output_type": "execute_result"
    }
   ],
   "source": [
    "data.head()"
   ]
  },
  {
   "cell_type": "code",
   "execution_count": 5,
   "id": "3fe66c9b",
   "metadata": {},
   "outputs": [
    {
     "name": "stdout",
     "output_type": "stream",
     "text": [
      "Размеры выборки: (5110, 11)\n"
     ]
    }
   ],
   "source": [
    "print('Размеры выборки: {}'.format(data.shape))"
   ]
  },
  {
   "cell_type": "code",
   "execution_count": 8,
   "id": "2fa161b6",
   "metadata": {},
   "outputs": [
    {
     "name": "stdout",
     "output_type": "stream",
     "text": [
      "<class 'pandas.core.frame.DataFrame'>\n",
      "Int64Index: 5110 entries, 9046 to 44679\n",
      "Data columns (total 11 columns):\n",
      " #   Column             Non-Null Count  Dtype  \n",
      "---  ------             --------------  -----  \n",
      " 0   gender             5110 non-null   object \n",
      " 1   age                5110 non-null   float64\n",
      " 2   hypertension       5110 non-null   int64  \n",
      " 3   heart_disease      5110 non-null   int64  \n",
      " 4   ever_married       5110 non-null   object \n",
      " 5   work_type          5110 non-null   object \n",
      " 6   Residence_type     5110 non-null   object \n",
      " 7   avg_glucose_level  5110 non-null   float64\n",
      " 8   bmi                4909 non-null   float64\n",
      " 9   smoking_status     5110 non-null   object \n",
      " 10  stroke             5110 non-null   int64  \n",
      "dtypes: float64(3), int64(3), object(5)\n",
      "memory usage: 479.1+ KB\n"
     ]
    }
   ],
   "source": [
    "data.info()"
   ]
  },
  {
   "cell_type": "markdown",
   "id": "70c89426",
   "metadata": {},
   "source": [
    "## Data parametres"
   ]
  },
  {
   "cell_type": "code",
   "execution_count": 10,
   "id": "6672eb56",
   "metadata": {},
   "outputs": [
    {
     "data": {
      "text/plain": [
       "gender               False\n",
       "age                  False\n",
       "hypertension         False\n",
       "heart_disease        False\n",
       "ever_married         False\n",
       "work_type            False\n",
       "Residence_type       False\n",
       "avg_glucose_level    False\n",
       "bmi                   True\n",
       "smoking_status       False\n",
       "stroke               False\n",
       "dtype: bool"
      ]
     },
     "execution_count": 10,
     "metadata": {},
     "output_type": "execute_result"
    }
   ],
   "source": [
    "data.isnull().any()"
   ]
  },
  {
   "cell_type": "code",
   "execution_count": 28,
   "id": "5273f80a",
   "metadata": {},
   "outputs": [],
   "source": [
    "def feature_type(n_unique):\n",
    "    if(n_unique==0): return 'null'\n",
    "    elif(n_unique==1): return 'unary'\n",
    "    elif(n_unique==2): return 'binary'\n",
    "    elif(n_unique<=8): return 'categorial'\n",
    "    else: return 'interval'"
   ]
  },
  {
   "cell_type": "code",
   "execution_count": 56,
   "id": "58e6b283",
   "metadata": {},
   "outputs": [],
   "source": [
    "params_dict = [{'feature_name': x,\n",
    "              'null_abs' : len(data[data[x].isnull()]),\n",
    "               'null_percentage' : 100*round(len(data[data[x].isnull()])/len(data), 4),\n",
    "                'n_unique' : data[x].nunique(),\n",
    "                'feature_type' : feature_type(data[x].nunique())\n",
    "               }\n",
    "              for x in data.columns]"
   ]
  },
  {
   "cell_type": "code",
   "execution_count": 57,
   "id": "adcb1381",
   "metadata": {},
   "outputs": [
    {
     "data": {
      "text/html": [
       "<div>\n",
       "<style scoped>\n",
       "    .dataframe tbody tr th:only-of-type {\n",
       "        vertical-align: middle;\n",
       "    }\n",
       "\n",
       "    .dataframe tbody tr th {\n",
       "        vertical-align: top;\n",
       "    }\n",
       "\n",
       "    .dataframe thead th {\n",
       "        text-align: right;\n",
       "    }\n",
       "</style>\n",
       "<table border=\"1\" class=\"dataframe\">\n",
       "  <thead>\n",
       "    <tr style=\"text-align: right;\">\n",
       "      <th></th>\n",
       "      <th>feature_name</th>\n",
       "      <th>null_abs</th>\n",
       "      <th>null_percentage</th>\n",
       "      <th>n_unique</th>\n",
       "      <th>feature_type</th>\n",
       "    </tr>\n",
       "  </thead>\n",
       "  <tbody>\n",
       "    <tr>\n",
       "      <th>0</th>\n",
       "      <td>gender</td>\n",
       "      <td>0</td>\n",
       "      <td>0.00</td>\n",
       "      <td>3</td>\n",
       "      <td>categorial</td>\n",
       "    </tr>\n",
       "    <tr>\n",
       "      <th>1</th>\n",
       "      <td>age</td>\n",
       "      <td>0</td>\n",
       "      <td>0.00</td>\n",
       "      <td>104</td>\n",
       "      <td>interval</td>\n",
       "    </tr>\n",
       "    <tr>\n",
       "      <th>2</th>\n",
       "      <td>hypertension</td>\n",
       "      <td>0</td>\n",
       "      <td>0.00</td>\n",
       "      <td>2</td>\n",
       "      <td>binary</td>\n",
       "    </tr>\n",
       "    <tr>\n",
       "      <th>3</th>\n",
       "      <td>heart_disease</td>\n",
       "      <td>0</td>\n",
       "      <td>0.00</td>\n",
       "      <td>2</td>\n",
       "      <td>binary</td>\n",
       "    </tr>\n",
       "    <tr>\n",
       "      <th>4</th>\n",
       "      <td>ever_married</td>\n",
       "      <td>0</td>\n",
       "      <td>0.00</td>\n",
       "      <td>2</td>\n",
       "      <td>binary</td>\n",
       "    </tr>\n",
       "    <tr>\n",
       "      <th>5</th>\n",
       "      <td>work_type</td>\n",
       "      <td>0</td>\n",
       "      <td>0.00</td>\n",
       "      <td>5</td>\n",
       "      <td>categorial</td>\n",
       "    </tr>\n",
       "    <tr>\n",
       "      <th>6</th>\n",
       "      <td>Residence_type</td>\n",
       "      <td>0</td>\n",
       "      <td>0.00</td>\n",
       "      <td>2</td>\n",
       "      <td>binary</td>\n",
       "    </tr>\n",
       "    <tr>\n",
       "      <th>7</th>\n",
       "      <td>avg_glucose_level</td>\n",
       "      <td>0</td>\n",
       "      <td>0.00</td>\n",
       "      <td>3979</td>\n",
       "      <td>interval</td>\n",
       "    </tr>\n",
       "    <tr>\n",
       "      <th>8</th>\n",
       "      <td>bmi</td>\n",
       "      <td>201</td>\n",
       "      <td>3.93</td>\n",
       "      <td>418</td>\n",
       "      <td>interval</td>\n",
       "    </tr>\n",
       "    <tr>\n",
       "      <th>9</th>\n",
       "      <td>smoking_status</td>\n",
       "      <td>0</td>\n",
       "      <td>0.00</td>\n",
       "      <td>4</td>\n",
       "      <td>categorial</td>\n",
       "    </tr>\n",
       "    <tr>\n",
       "      <th>10</th>\n",
       "      <td>stroke</td>\n",
       "      <td>0</td>\n",
       "      <td>0.00</td>\n",
       "      <td>2</td>\n",
       "      <td>binary</td>\n",
       "    </tr>\n",
       "  </tbody>\n",
       "</table>\n",
       "</div>"
      ],
      "text/plain": [
       "         feature_name  null_abs  null_percentage  n_unique feature_type\n",
       "0              gender         0             0.00         3   categorial\n",
       "1                 age         0             0.00       104     interval\n",
       "2        hypertension         0             0.00         2       binary\n",
       "3       heart_disease         0             0.00         2       binary\n",
       "4        ever_married         0             0.00         2       binary\n",
       "5           work_type         0             0.00         5   categorial\n",
       "6      Residence_type         0             0.00         2       binary\n",
       "7   avg_glucose_level         0             0.00      3979     interval\n",
       "8                 bmi       201             3.93       418     interval\n",
       "9      smoking_status         0             0.00         4   categorial\n",
       "10             stroke         0             0.00         2       binary"
      ]
     },
     "execution_count": 57,
     "metadata": {},
     "output_type": "execute_result"
    }
   ],
   "source": [
    "df_stat = pd.DataFrame.from_dict(params_dict)\n",
    "df_stat"
   ]
  },
  {
   "cell_type": "code",
   "execution_count": 58,
   "id": "3eede472",
   "metadata": {},
   "outputs": [],
   "source": [
    "binary_cols = df_stat['feature_name'][df_stat.feature_type=='binary'].values\n",
    "unary_cols = df_stat['feature_name'][df_stat.feature_type=='unary'].values\n",
    "categorial_cols = df_stat['feature_name'][df_stat.feature_type=='categorial'].values\n",
    "interval_cols = df_stat['feature_name'][df_stat.feature_type=='interval'].values"
   ]
  },
  {
   "cell_type": "code",
   "execution_count": 71,
   "id": "71aa72e8",
   "metadata": {},
   "outputs": [
    {
     "data": {
      "text/html": [
       "<div>\n",
       "<style scoped>\n",
       "    .dataframe tbody tr th:only-of-type {\n",
       "        vertical-align: middle;\n",
       "    }\n",
       "\n",
       "    .dataframe tbody tr th {\n",
       "        vertical-align: top;\n",
       "    }\n",
       "\n",
       "    .dataframe thead th {\n",
       "        text-align: right;\n",
       "    }\n",
       "</style>\n",
       "<table border=\"1\" class=\"dataframe\">\n",
       "  <thead>\n",
       "    <tr style=\"text-align: right;\">\n",
       "      <th></th>\n",
       "      <th>feature_name</th>\n",
       "      <th>null_abs</th>\n",
       "      <th>null_percentage</th>\n",
       "      <th>n_unique</th>\n",
       "      <th>feature_type</th>\n",
       "    </tr>\n",
       "  </thead>\n",
       "  <tbody>\n",
       "    <tr>\n",
       "      <th>1</th>\n",
       "      <td>age</td>\n",
       "      <td>0</td>\n",
       "      <td>0.00</td>\n",
       "      <td>104</td>\n",
       "      <td>interval</td>\n",
       "    </tr>\n",
       "    <tr>\n",
       "      <th>7</th>\n",
       "      <td>avg_glucose_level</td>\n",
       "      <td>0</td>\n",
       "      <td>0.00</td>\n",
       "      <td>3979</td>\n",
       "      <td>interval</td>\n",
       "    </tr>\n",
       "    <tr>\n",
       "      <th>8</th>\n",
       "      <td>bmi</td>\n",
       "      <td>201</td>\n",
       "      <td>3.93</td>\n",
       "      <td>418</td>\n",
       "      <td>interval</td>\n",
       "    </tr>\n",
       "  </tbody>\n",
       "</table>\n",
       "</div>"
      ],
      "text/plain": [
       "        feature_name  null_abs  null_percentage  n_unique feature_type\n",
       "1                age         0             0.00       104     interval\n",
       "7  avg_glucose_level         0             0.00      3979     interval\n",
       "8                bmi       201             3.93       418     interval"
      ]
     },
     "execution_count": 71,
     "metadata": {},
     "output_type": "execute_result"
    }
   ],
   "source": [
    "#пример вывода статистик по фичам определенного типа\n",
    "df_stat[df_stat.feature_name.isin(interval_cols)]"
   ]
  },
  {
   "cell_type": "markdown",
   "id": "0bb8a008",
   "metadata": {},
   "source": [
    "## Working with interval features"
   ]
  },
  {
   "cell_type": "markdown",
   "id": "d969f24c",
   "metadata": {},
   "source": [
    "#### boxplot"
   ]
  },
  {
   "cell_type": "code",
   "execution_count": 121,
   "id": "18ed4e95",
   "metadata": {},
   "outputs": [
    {
     "data": {
      "image/png": "[encoded data removed]",
      "text/plain": [
       "<Figure size 1440x1800 with 3 Axes>"
      ]
     },
     "metadata": {},
     "output_type": "display_data"
    }
   ],
   "source": [
    "ig, axes = plt.subplots(nrows=3, ncols=1, figsize=(20, 25))\n",
    "for idx, feature in enumerate(interval_cols):\n",
    "    sns.boxplot(x=data[feature], color='lightblue', ax=axes[idx])"
   ]
  },
  {
   "cell_type": "markdown",
   "id": "0885c435",
   "metadata": {},
   "source": [
    "### distribution"
   ]
  },
  {
   "cell_type": "code",
   "execution_count": 151,
   "id": "1a3bcaff",
   "metadata": {},
   "outputs": [
    {
     "data": {
      "image/png": "[encoded data removed]",
      "text/plain": [
       "<Figure size 1440x1800 with 3 Axes>"
      ]
     },
     "metadata": {},
     "output_type": "display_data"
    }
   ],
   "source": [
    "ig, axes = plt.subplots(nrows=3, ncols=1, figsize=(20, 25))\n",
    "for idx, feature in enumerate(interval_cols):\n",
    "    sns.histplot(x=data[feature], hue=data['stroke'], \n",
    "                palette=[(0.255,0,0.255), (0,0, 0.255)],\n",
    "                edgecolor='black', ax=axes[idx])"
   ]
  },
  {
   "cell_type": "code",
   "execution_count": null,
   "id": "b9b29e91",
   "metadata": {},
   "outputs": [],
   "source": []
  }
 ],
 "metadata": {
  "kernelspec": {
   "display_name": "Python 3",
   "language": "python",
   "name": "python3"
  },
  "language_info": {
   "codemirror_mode": {
    "name": "ipython",
    "version": 3
   },
   "file_extension": ".py",
   "mimetype": "text/x-python",
   "name": "python",
   "nbconvert_exporter": "python",
   "pygments_lexer": "ipython3",
   "version": "3.8.8"
  }
 },
 "nbformat": 4,
 "nbformat_minor": 5
}
